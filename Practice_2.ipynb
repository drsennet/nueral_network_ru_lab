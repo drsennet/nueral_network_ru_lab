{
  "nbformat": 4,
  "nbformat_minor": 0,
  "metadata": {
    "colab": {
      "provenance": [],
      "authorship_tag": "ABX9TyM0FUNcZPofdu2oQakVfiCB",
      "include_colab_link": true
    },
    "kernelspec": {
      "name": "python3",
      "display_name": "Python 3"
    },
    "language_info": {
      "name": "python"
    }
  },
  "cells": [
    {
      "cell_type": "markdown",
      "metadata": {
        "id": "view-in-github",
        "colab_type": "text"
      },
      "source": [
        "<a href=\"https://colab.research.google.com/github/drsennet/nueral_network_ru_lab/blob/main/Practice_2.ipynb\" target=\"_parent\"><img src=\"https://colab.research.google.com/assets/colab-badge.svg\" alt=\"Open In Colab\"/></a>"
      ]
    },
    {
      "cell_type": "markdown",
      "source": [
        "# predicting the temperature value from degrees Celsius to degrees Fahrenheit"
      ],
      "metadata": {
        "id": "ztJPXzG9RQD1"
      }
    },
    {
      "cell_type": "markdown",
      "source": [],
      "metadata": {
        "id": "HHdf2rKmSiwy"
      }
    },
    {
      "cell_type": "code",
      "source": [
        "import os\n",
        "os.environ['TF_CPP_MIN_LOG_LEVEL'] = '2'"
      ],
      "metadata": {
        "id": "WxMBaFsdSmCy"
      },
      "execution_count": 1,
      "outputs": []
    },
    {
      "cell_type": "code",
      "execution_count": 2,
      "metadata": {
        "id": "EEnn8y9F2vir"
      },
      "outputs": [],
      "source": [
        "import numpy as np\n",
        "import matplotlib.pyplot as plt\n",
        "from tensorflow import keras\n",
        "from tensorflow.keras.layers import Dense"
      ]
    },
    {
      "cell_type": "code",
      "source": [
        "c = np.array([-40, -10, 0, 8, 15, 22, 38])\n",
        "f = np.array([-40, 14, 32, 46, 59, 72, 100])"
      ],
      "metadata": {
        "id": "j8u4-u-bV5DI"
      },
      "execution_count": 3,
      "outputs": []
    },
    {
      "cell_type": "markdown",
      "source": [
        "# definition of sequenrial neural network"
      ],
      "metadata": {
        "id": "FXaj2sCIWf3s"
      }
    },
    {
      "cell_type": "code",
      "source": [
        "from keras.api._v2.keras import activations\n",
        "#model\n",
        "model = keras.Sequential()\n",
        "model.add(Dense(units=1, input_shape=(1,), activation= 'linear'))"
      ],
      "metadata": {
        "id": "xGgIFDZrWpl9"
      },
      "execution_count": 4,
      "outputs": []
    },
    {
      "cell_type": "markdown",
      "source": [
        "#Model compilation"
      ],
      "metadata": {
        "id": "OR3GYSbCXikt"
      }
    },
    {
      "cell_type": "code",
      "source": [
        "from keras.engine.training import optimizer\n",
        "model.compile(loss='mean_squared_error', optimizer=keras.optimizers.Adam(0.1))"
      ],
      "metadata": {
        "id": "SW3Mo40RXxz7"
      },
      "execution_count": 12,
      "outputs": []
    },
    {
      "cell_type": "code",
      "source": [
        "model.summary"
      ],
      "metadata": {
        "id": "tX7HCDJuZrlY",
        "outputId": "f7bf8df3-2b23-4e9f-fc0e-5bc5a20d28fd",
        "colab": {
          "base_uri": "https://localhost:8080/"
        }
      },
      "execution_count": 13,
      "outputs": [
        {
          "output_type": "execute_result",
          "data": {
            "text/plain": [
              "<bound method Model.summary of <keras.engine.sequential.Sequential object at 0x7bef47625cc0>>"
            ]
          },
          "metadata": {},
          "execution_count": 13
        }
      ]
    },
    {
      "cell_type": "markdown",
      "source": [
        "# Training and fitting of model"
      ],
      "metadata": {
        "id": "We-6aphPYVux"
      }
    },
    {
      "cell_type": "code",
      "source": [
        "history = model.fit(c, f, epochs = 500, verbose=0)\n",
        "print(\"Training completed\")"
      ],
      "metadata": {
        "colab": {
          "base_uri": "https://localhost:8080/"
        },
        "id": "kL9mD49RYcpE",
        "outputId": "d1ee55cc-3b50-4624-f327-95e83624f54a"
      },
      "execution_count": 15,
      "outputs": [
        {
          "output_type": "stream",
          "name": "stdout",
          "text": [
            "<keras.callbacks.History object at 0x7beea64e2530>\n"
          ]
        }
      ]
    },
    {
      "cell_type": "markdown",
      "source": [
        "Out of the model\n",
        "Here there is an appeal to the history of training and the values of the quality criterion (loss\n",
        "function) are taken and displayed as a graph:"
      ],
      "metadata": {
        "id": "KFrjUmF3lGAB"
      }
    },
    {
      "cell_type": "code",
      "source": [
        "plt.plot(history.history['loss'])\n",
        "plt.grid(True)\n",
        "plt.show()"
      ],
      "metadata": {
        "colab": {
          "base_uri": "https://localhost:8080/",
          "height": 430
        },
        "id": "OGmNZwFCkv4-",
        "outputId": "7f822033-9a81-4973-a606-f74626eae760"
      },
      "execution_count": 16,
      "outputs": [
        {
          "output_type": "display_data",
          "data": {
            "text/plain": [
              "<Figure size 640x480 with 1 Axes>"
            ],
            "image/png": "[encoded data removed]"
          },
          "metadata": {}
        }
      ]
    },
    {
      "cell_type": "code",
      "source": [
        "print(model.predict([100]))"
      ],
      "metadata": {
        "colab": {
          "base_uri": "https://localhost:8080/"
        },
        "id": "Bk30iT_KmO03",
        "outputId": "90f252a0-28ed-4de0-e11c-40247467fe97"
      },
      "execution_count": 17,
      "outputs": [
        {
          "output_type": "stream",
          "name": "stdout",
          "text": [
            "1/1 [==============================] - 0s 102ms/step\n",
            "[[211.74385]]\n"
          ]
        }
      ]
    },
    {
      "cell_type": "code",
      "source": [
        "print(model.get_weights())"
      ],
      "metadata": {
        "colab": {
          "base_uri": "https://localhost:8080/"
        },
        "id": "NvLeWX5_mYNA",
        "outputId": "7931b082-8bca-49f4-fa2e-53883453652a"
      },
      "execution_count": 18,
      "outputs": [
        {
          "output_type": "stream",
          "name": "stdout",
          "text": [
            "[array([[1.7981489]], dtype=float32), array([31.92897], dtype=float32)]\n"
          ]
        }
      ]
    },
    {
      "cell_type": "markdown",
      "source": [
        "The neural network converted 100 degrees Celsius to 211 degrees Fahrenheit, which is close\n",
        "enough to the truth. In addition, the weight coefficients were determined as 1,8 and 29 – which\n",
        "is also close to the required values."
      ],
      "metadata": {
        "id": "9usZWV0gnDbP"
      }
    }
  ]
}